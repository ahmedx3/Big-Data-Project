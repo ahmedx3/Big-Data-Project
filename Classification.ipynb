{
 "cells": [
  {
   "cell_type": "code",
   "execution_count": 12,
   "metadata": {},
   "outputs": [],
   "source": [
    "import pandas as pd\n",
    "import numpy as np\n",
    "from sklearn.dummy import DummyClassifier\n",
    "from sklearn.model_selection import train_test_split\n",
    "from imblearn.over_sampling import SMOTE\n",
    "from imblearn.combine import SMOTETomek\n",
    "from sklearn.linear_model import LogisticRegression\n",
    "from sklearn.model_selection import train_test_split, GridSearchCV\n",
    "from sklearn.metrics import classification_report, f1_score\n",
    "from sklearn.svm import SVC\n",
    "from sklearn.tree import DecisionTreeClassifier\n",
    "from sklearn.feature_selection import SelectKBest\n",
    "from imblearn.over_sampling import RandomOverSampler\n",
    "from sklearn import metrics"
   ]
  },
  {
   "cell_type": "markdown",
   "metadata": {},
   "source": [
    "# Load Cleaned data"
   ]
  },
  {
   "cell_type": "code",
   "execution_count": 3,
   "metadata": {},
   "outputs": [
    {
     "data": {
      "text/html": [
       "<div>\n",
       "<style scoped>\n",
       "    .dataframe tbody tr th:only-of-type {\n",
       "        vertical-align: middle;\n",
       "    }\n",
       "\n",
       "    .dataframe tbody tr th {\n",
       "        vertical-align: top;\n",
       "    }\n",
       "\n",
       "    .dataframe thead th {\n",
       "        text-align: right;\n",
       "    }\n",
       "</style>\n",
       "<table border=\"1\" class=\"dataframe\">\n",
       "  <thead>\n",
       "    <tr style=\"text-align: right;\">\n",
       "      <th></th>\n",
       "      <th>HeartDisease</th>\n",
       "      <th>BMI</th>\n",
       "      <th>Smoking</th>\n",
       "      <th>AlcoholDrinking</th>\n",
       "      <th>Stroke</th>\n",
       "      <th>PhysicalHealth</th>\n",
       "      <th>MentalHealth</th>\n",
       "      <th>DiffWalking</th>\n",
       "      <th>Sex</th>\n",
       "      <th>AgeCategory</th>\n",
       "      <th>Race</th>\n",
       "      <th>Diabetic</th>\n",
       "      <th>PhysicalActivity</th>\n",
       "      <th>GenHealth</th>\n",
       "      <th>SleepTime</th>\n",
       "      <th>Asthma</th>\n",
       "      <th>KidneyDisease</th>\n",
       "      <th>SkinCancer</th>\n",
       "    </tr>\n",
       "  </thead>\n",
       "  <tbody>\n",
       "    <tr>\n",
       "      <th>count</th>\n",
       "      <td>319795.000000</td>\n",
       "      <td>319795.000000</td>\n",
       "      <td>319795.000000</td>\n",
       "      <td>319795.000000</td>\n",
       "      <td>319795.000000</td>\n",
       "      <td>319795.00000</td>\n",
       "      <td>319795.000000</td>\n",
       "      <td>319795.000000</td>\n",
       "      <td>319795.000000</td>\n",
       "      <td>319795.000000</td>\n",
       "      <td>319795.000000</td>\n",
       "      <td>319795.00000</td>\n",
       "      <td>319795.000000</td>\n",
       "      <td>319795.000000</td>\n",
       "      <td>319795.000000</td>\n",
       "      <td>319795.000000</td>\n",
       "      <td>319795.000000</td>\n",
       "      <td>319795.000000</td>\n",
       "    </tr>\n",
       "    <tr>\n",
       "      <th>mean</th>\n",
       "      <td>0.085595</td>\n",
       "      <td>28.325399</td>\n",
       "      <td>0.412477</td>\n",
       "      <td>0.068097</td>\n",
       "      <td>0.037740</td>\n",
       "      <td>3.37171</td>\n",
       "      <td>3.898366</td>\n",
       "      <td>0.138870</td>\n",
       "      <td>0.475273</td>\n",
       "      <td>6.514536</td>\n",
       "      <td>0.736794</td>\n",
       "      <td>0.90962</td>\n",
       "      <td>0.775362</td>\n",
       "      <td>2.595028</td>\n",
       "      <td>7.097075</td>\n",
       "      <td>0.134061</td>\n",
       "      <td>0.036833</td>\n",
       "      <td>0.093244</td>\n",
       "    </tr>\n",
       "    <tr>\n",
       "      <th>std</th>\n",
       "      <td>0.279766</td>\n",
       "      <td>6.356100</td>\n",
       "      <td>0.492281</td>\n",
       "      <td>0.251912</td>\n",
       "      <td>0.190567</td>\n",
       "      <td>7.95085</td>\n",
       "      <td>7.955235</td>\n",
       "      <td>0.345812</td>\n",
       "      <td>0.499389</td>\n",
       "      <td>3.564759</td>\n",
       "      <td>1.571156</td>\n",
       "      <td>0.41549</td>\n",
       "      <td>0.417344</td>\n",
       "      <td>1.042918</td>\n",
       "      <td>1.436007</td>\n",
       "      <td>0.340718</td>\n",
       "      <td>0.188352</td>\n",
       "      <td>0.290775</td>\n",
       "    </tr>\n",
       "    <tr>\n",
       "      <th>min</th>\n",
       "      <td>0.000000</td>\n",
       "      <td>12.020000</td>\n",
       "      <td>0.000000</td>\n",
       "      <td>0.000000</td>\n",
       "      <td>0.000000</td>\n",
       "      <td>0.00000</td>\n",
       "      <td>0.000000</td>\n",
       "      <td>0.000000</td>\n",
       "      <td>0.000000</td>\n",
       "      <td>0.000000</td>\n",
       "      <td>0.000000</td>\n",
       "      <td>0.00000</td>\n",
       "      <td>0.000000</td>\n",
       "      <td>0.000000</td>\n",
       "      <td>1.000000</td>\n",
       "      <td>0.000000</td>\n",
       "      <td>0.000000</td>\n",
       "      <td>0.000000</td>\n",
       "    </tr>\n",
       "    <tr>\n",
       "      <th>25%</th>\n",
       "      <td>0.000000</td>\n",
       "      <td>24.030000</td>\n",
       "      <td>0.000000</td>\n",
       "      <td>0.000000</td>\n",
       "      <td>0.000000</td>\n",
       "      <td>0.00000</td>\n",
       "      <td>0.000000</td>\n",
       "      <td>0.000000</td>\n",
       "      <td>0.000000</td>\n",
       "      <td>4.000000</td>\n",
       "      <td>0.000000</td>\n",
       "      <td>1.00000</td>\n",
       "      <td>1.000000</td>\n",
       "      <td>2.000000</td>\n",
       "      <td>6.000000</td>\n",
       "      <td>0.000000</td>\n",
       "      <td>0.000000</td>\n",
       "      <td>0.000000</td>\n",
       "    </tr>\n",
       "    <tr>\n",
       "      <th>50%</th>\n",
       "      <td>0.000000</td>\n",
       "      <td>27.340000</td>\n",
       "      <td>0.000000</td>\n",
       "      <td>0.000000</td>\n",
       "      <td>0.000000</td>\n",
       "      <td>0.00000</td>\n",
       "      <td>0.000000</td>\n",
       "      <td>0.000000</td>\n",
       "      <td>0.000000</td>\n",
       "      <td>7.000000</td>\n",
       "      <td>0.000000</td>\n",
       "      <td>1.00000</td>\n",
       "      <td>1.000000</td>\n",
       "      <td>3.000000</td>\n",
       "      <td>7.000000</td>\n",
       "      <td>0.000000</td>\n",
       "      <td>0.000000</td>\n",
       "      <td>0.000000</td>\n",
       "    </tr>\n",
       "    <tr>\n",
       "      <th>75%</th>\n",
       "      <td>0.000000</td>\n",
       "      <td>31.420000</td>\n",
       "      <td>1.000000</td>\n",
       "      <td>0.000000</td>\n",
       "      <td>0.000000</td>\n",
       "      <td>2.00000</td>\n",
       "      <td>3.000000</td>\n",
       "      <td>0.000000</td>\n",
       "      <td>1.000000</td>\n",
       "      <td>9.000000</td>\n",
       "      <td>0.000000</td>\n",
       "      <td>1.00000</td>\n",
       "      <td>1.000000</td>\n",
       "      <td>3.000000</td>\n",
       "      <td>8.000000</td>\n",
       "      <td>0.000000</td>\n",
       "      <td>0.000000</td>\n",
       "      <td>0.000000</td>\n",
       "    </tr>\n",
       "    <tr>\n",
       "      <th>max</th>\n",
       "      <td>1.000000</td>\n",
       "      <td>94.850000</td>\n",
       "      <td>1.000000</td>\n",
       "      <td>1.000000</td>\n",
       "      <td>1.000000</td>\n",
       "      <td>30.00000</td>\n",
       "      <td>30.000000</td>\n",
       "      <td>1.000000</td>\n",
       "      <td>1.000000</td>\n",
       "      <td>12.000000</td>\n",
       "      <td>5.000000</td>\n",
       "      <td>3.00000</td>\n",
       "      <td>1.000000</td>\n",
       "      <td>4.000000</td>\n",
       "      <td>24.000000</td>\n",
       "      <td>1.000000</td>\n",
       "      <td>1.000000</td>\n",
       "      <td>1.000000</td>\n",
       "    </tr>\n",
       "  </tbody>\n",
       "</table>\n",
       "</div>"
      ],
      "text/plain": [
       "        HeartDisease            BMI        Smoking  AlcoholDrinking  \\\n",
       "count  319795.000000  319795.000000  319795.000000    319795.000000   \n",
       "mean        0.085595      28.325399       0.412477         0.068097   \n",
       "std         0.279766       6.356100       0.492281         0.251912   \n",
       "min         0.000000      12.020000       0.000000         0.000000   \n",
       "25%         0.000000      24.030000       0.000000         0.000000   \n",
       "50%         0.000000      27.340000       0.000000         0.000000   \n",
       "75%         0.000000      31.420000       1.000000         0.000000   \n",
       "max         1.000000      94.850000       1.000000         1.000000   \n",
       "\n",
       "              Stroke  PhysicalHealth   MentalHealth    DiffWalking  \\\n",
       "count  319795.000000    319795.00000  319795.000000  319795.000000   \n",
       "mean        0.037740         3.37171       3.898366       0.138870   \n",
       "std         0.190567         7.95085       7.955235       0.345812   \n",
       "min         0.000000         0.00000       0.000000       0.000000   \n",
       "25%         0.000000         0.00000       0.000000       0.000000   \n",
       "50%         0.000000         0.00000       0.000000       0.000000   \n",
       "75%         0.000000         2.00000       3.000000       0.000000   \n",
       "max         1.000000        30.00000      30.000000       1.000000   \n",
       "\n",
       "                 Sex    AgeCategory           Race      Diabetic  \\\n",
       "count  319795.000000  319795.000000  319795.000000  319795.00000   \n",
       "mean        0.475273       6.514536       0.736794       0.90962   \n",
       "std         0.499389       3.564759       1.571156       0.41549   \n",
       "min         0.000000       0.000000       0.000000       0.00000   \n",
       "25%         0.000000       4.000000       0.000000       1.00000   \n",
       "50%         0.000000       7.000000       0.000000       1.00000   \n",
       "75%         1.000000       9.000000       0.000000       1.00000   \n",
       "max         1.000000      12.000000       5.000000       3.00000   \n",
       "\n",
       "       PhysicalActivity      GenHealth      SleepTime         Asthma  \\\n",
       "count     319795.000000  319795.000000  319795.000000  319795.000000   \n",
       "mean           0.775362       2.595028       7.097075       0.134061   \n",
       "std            0.417344       1.042918       1.436007       0.340718   \n",
       "min            0.000000       0.000000       1.000000       0.000000   \n",
       "25%            1.000000       2.000000       6.000000       0.000000   \n",
       "50%            1.000000       3.000000       7.000000       0.000000   \n",
       "75%            1.000000       3.000000       8.000000       0.000000   \n",
       "max            1.000000       4.000000      24.000000       1.000000   \n",
       "\n",
       "       KidneyDisease     SkinCancer  \n",
       "count  319795.000000  319795.000000  \n",
       "mean        0.036833       0.093244  \n",
       "std         0.188352       0.290775  \n",
       "min         0.000000       0.000000  \n",
       "25%         0.000000       0.000000  \n",
       "50%         0.000000       0.000000  \n",
       "75%         0.000000       0.000000  \n",
       "max         1.000000       1.000000  "
      ]
     },
     "execution_count": 3,
     "metadata": {},
     "output_type": "execute_result"
    }
   ],
   "source": [
    "imported_data = pd.read_csv(\"clean_data.csv\", index_col=False)\n",
    "imported_data.describe()"
   ]
  },
  {
   "cell_type": "markdown",
   "metadata": {},
   "source": [
    "#### Data Features Selection"
   ]
  },
  {
   "cell_type": "code",
   "execution_count": 4,
   "metadata": {},
   "outputs": [],
   "source": [
    "X = imported_data.iloc[: , 1:imported_data.shape[1]]\n",
    "Y = imported_data.iloc[: , 0]"
   ]
  },
  {
   "cell_type": "markdown",
   "metadata": {},
   "source": [
    "# Divide data to train, test and validation\n",
    "### With ratios 60% (train) , 20% (test) , 20% (validation)"
   ]
  },
  {
   "cell_type": "code",
   "execution_count": 5,
   "metadata": {},
   "outputs": [
    {
     "name": "stdout",
     "output_type": "stream",
     "text": [
      "X_train shape: (191877, 17)\n",
      "y_train shape: (191877,)\n",
      "X_test shape: (63959, 17)\n",
      "y_test shape: (63959,)\n",
      "X_val shape: (63959, 17)\n",
      "y_val shape: (63959,)\n",
      "\n",
      "y_train Values: \n",
      "0    175453\n",
      "1     16424\n",
      "Name: HeartDisease, dtype: int64\n",
      "y_test Values: \n",
      "0    58485\n",
      "1     5474\n",
      "Name: HeartDisease, dtype: int64\n",
      "y_val Values: \n",
      "0    58484\n",
      "1     5475\n",
      "Name: HeartDisease, dtype: int64\n"
     ]
    }
   ],
   "source": [
    "X_train, X, y_train, Y = train_test_split(X, Y, test_size=0.4, stratify=Y)\n",
    "X_test, X_val, y_test, y_val = train_test_split(X , Y, test_size = 0.5, stratify=Y)\n",
    "\n",
    "print(\"X_train shape: {}\".format(X_train.shape))\n",
    "print(\"y_train shape: {}\".format(y_train.shape))\n",
    "print(\"X_test shape: {}\".format(X_test.shape))\n",
    "print(\"y_test shape: {}\".format(y_test.shape))\n",
    "print(\"X_val shape: {}\".format(X_val.shape))\n",
    "print(\"y_val shape: {}\".format(y_val.shape))\n",
    "\n",
    "print()\n",
    "print(\"y_train Values: \\n{}\".format(y_train.value_counts()))\n",
    "print(\"y_test Values: \\n{}\".format(y_test.value_counts()))\n",
    "print(\"y_val Values: \\n{}\".format(y_val.value_counts()))"
   ]
  },
  {
   "cell_type": "markdown",
   "metadata": {},
   "source": [
    "# Baseline (before oversampling)\n",
    "Using most frequent"
   ]
  },
  {
   "cell_type": "code",
   "execution_count": 6,
   "metadata": {},
   "outputs": [
    {
     "name": "stdout",
     "output_type": "stream",
     "text": [
      "Dummy Classifier Accuracy: 91.44034980742872 %\n"
     ]
    }
   ],
   "source": [
    "dummy_clf = DummyClassifier(strategy=\"most_frequent\")\n",
    "dummy_clf.fit(X_train, y_train)\n",
    "dummy_clf.predict(X_train)\n",
    "accuracy = dummy_clf.score(X_train, y_train)\n",
    "print(\"Dummy Classifier Accuracy: {} %\".format(accuracy*100))"
   ]
  },
  {
   "cell_type": "markdown",
   "metadata": {},
   "source": [
    "### Oversamling the data"
   ]
  },
  {
   "cell_type": "code",
   "execution_count": 7,
   "metadata": {},
   "outputs": [
    {
     "name": "stdout",
     "output_type": "stream",
     "text": [
      "X_train_over_sampled shape: (350906, 17)\n",
      "y_train_over_sampled shape: (350906,)\n",
      "\n",
      "y_train_over_sampled Values: \n",
      "0    175453\n",
      "1    175453\n",
      "Name: HeartDisease, dtype: int64\n"
     ]
    }
   ],
   "source": [
    "ros = RandomOverSampler(random_state=0)\n",
    "ros.fit(X_train, y_train)\n",
    "X_train_over_sampled, y_train_over_sampled = ros.fit_resample(X_train, y_train)\n",
    "\n",
    "print(\"X_train_over_sampled shape: {}\".format(X_train_over_sampled.shape))\n",
    "print(\"y_train_over_sampled shape: {}\".format(y_train_over_sampled.shape))\n",
    "print()\n",
    "print(\"y_train_over_sampled Values: \\n{}\".format(y_train_over_sampled.value_counts()))"
   ]
  },
  {
   "cell_type": "code",
   "execution_count": 8,
   "metadata": {},
   "outputs": [
    {
     "name": "stdout",
     "output_type": "stream",
     "text": [
      "X_val_over_sampled shape: (116968, 17)\n",
      "y_val_over_sampled shape: (116968,)\n",
      "\n",
      "y_val_over_sampled Values: \n",
      "0    58484\n",
      "1    58484\n",
      "Name: HeartDisease, dtype: int64\n"
     ]
    }
   ],
   "source": [
    "ros = RandomOverSampler(random_state=0)\n",
    "ros.fit(X_val, y_val)\n",
    "X_val_over_sampled, y_val_over_sampled = ros.fit_resample(X_val, y_val)\n",
    "\n",
    "print(\"X_val_over_sampled shape: {}\".format(X_val_over_sampled.shape))\n",
    "print(\"y_val_over_sampled shape: {}\".format(y_val_over_sampled.shape))\n",
    "print()\n",
    "print(\"y_val_over_sampled Values: \\n{}\".format(y_val_over_sampled.value_counts()))"
   ]
  },
  {
   "cell_type": "code",
   "execution_count": 9,
   "metadata": {},
   "outputs": [
    {
     "name": "stdout",
     "output_type": "stream",
     "text": [
      "X_test_over_sampled shape: (116970, 17)\n",
      "y_val_over_sampled shape: (116970,)\n",
      "\n",
      "y_val_over_sampled Values: \n",
      "0    58485\n",
      "1    58485\n",
      "Name: HeartDisease, dtype: int64\n"
     ]
    }
   ],
   "source": [
    "ros = RandomOverSampler(random_state=0)\n",
    "ros.fit(X_test, y_test)\n",
    "X_test_over_sampled, y_test_over_sampled = ros.fit_resample(X_test, y_test)\n",
    "\n",
    "print(\"X_test_over_sampled shape: {}\".format(X_test_over_sampled.shape))\n",
    "print(\"y_val_over_sampled shape: {}\".format(y_test_over_sampled.shape))\n",
    "print()\n",
    "print(\"y_val_over_sampled Values: \\n{}\".format(y_test_over_sampled.value_counts()))"
   ]
  },
  {
   "cell_type": "markdown",
   "metadata": {},
   "source": [
    "# Baseline (After oversampling)\n",
    "Using most frequent"
   ]
  },
  {
   "cell_type": "code",
   "execution_count": 10,
   "metadata": {},
   "outputs": [
    {
     "name": "stdout",
     "output_type": "stream",
     "text": [
      "Dummy Classifier Accuracy: 50.0 %\n"
     ]
    }
   ],
   "source": [
    "dummy_clf = DummyClassifier(strategy=\"most_frequent\")\n",
    "dummy_clf.fit(X_train_over_sampled, y_train_over_sampled)\n",
    "dummy_clf.predict(X_train_over_sampled)\n",
    "accuracy = dummy_clf.score(X_train_over_sampled, y_train_over_sampled)\n",
    "print(\"Dummy Classifier Accuracy: {} %\".format(accuracy*100))"
   ]
  },
  {
   "cell_type": "markdown",
   "metadata": {},
   "source": [
    "## Decision Tree"
   ]
  },
  {
   "cell_type": "code",
   "execution_count": 14,
   "metadata": {},
   "outputs": [
    {
     "name": "stdout",
     "output_type": "stream",
     "text": [
      "Accuracy: 0.7206500923329457\n"
     ]
    }
   ],
   "source": [
    "model = DecisionTreeClassifier(criterion=\"entropy\", max_depth=3)\n",
    "model.fit(X_train_over_sampled, y_train_over_sampled)\n",
    "y_pred = model.predict(X_val_over_sampled)\n",
    "print(\"Accuracy:\",metrics.accuracy_score(y_val_over_sampled, y_pred))"
   ]
  }
 ],
 "metadata": {
  "interpreter": {
   "hash": "5577d62c97e7326fadda461e84051408f63875fa9c47a2666194280ffd9ae021"
  },
  "kernelspec": {
   "display_name": "Python 3.9.6 64-bit",
   "language": "python",
   "name": "python3"
  },
  "language_info": {
   "codemirror_mode": {
    "name": "ipython",
    "version": 3
   },
   "file_extension": ".py",
   "mimetype": "text/x-python",
   "name": "python",
   "nbconvert_exporter": "python",
   "pygments_lexer": "ipython3",
   "version": "3.9.6"
  },
  "orig_nbformat": 4
 },
 "nbformat": 4,
 "nbformat_minor": 2
}
