{
 "cells": [
  {
   "cell_type": "code",
   "execution_count": 3,
   "metadata": {},
   "outputs": [],
   "source": [
    "import pandas as pd\n",
    "import numpy as np\n",
    "from sklearn.dummy import DummyClassifier\n",
    "from sklearn.model_selection import train_test_split\n",
    "from imblearn.over_sampling import SMOTE\n",
    "from imblearn.combine import SMOTETomek\n",
    "from sklearn.linear_model import LogisticRegression\n",
    "from sklearn.model_selection import train_test_split, GridSearchCV\n",
    "from sklearn.metrics import classification_report, f1_score\n",
    "from sklearn.svm import SVC\n",
    "from sklearn.tree import DecisionTreeClassifier\n",
    "from sklearn.feature_selection import SelectKBest\n",
    "from imblearn.over_sampling import RandomOverSampler\n",
    "from sklearn import metrics\n",
    "import matplotlib.pyplot as plt\n",
    "import seaborn as sns\n",
    "from sklearn.naive_bayes import GaussianNB\n",
    "from sklearn.neighbors import KNeighborsClassifier\n",
    "from sklearn.svm import LinearSVC\n",
    "from sklearn.neighbors import NearestNeighbors"
   ]
  },
  {
   "cell_type": "markdown",
   "metadata": {},
   "source": [
    "# Load Cleaned data"
   ]
  },
  {
   "cell_type": "code",
   "execution_count": 4,
   "metadata": {},
   "outputs": [
    {
     "data": {
      "text/html": [
       "<div>\n",
       "<style scoped>\n",
       "    .dataframe tbody tr th:only-of-type {\n",
       "        vertical-align: middle;\n",
       "    }\n",
       "\n",
       "    .dataframe tbody tr th {\n",
       "        vertical-align: top;\n",
       "    }\n",
       "\n",
       "    .dataframe thead th {\n",
       "        text-align: right;\n",
       "    }\n",
       "</style>\n",
       "<table border=\"1\" class=\"dataframe\">\n",
       "  <thead>\n",
       "    <tr style=\"text-align: right;\">\n",
       "      <th></th>\n",
       "      <th>HeartDisease</th>\n",
       "      <th>BMI</th>\n",
       "      <th>Smoking</th>\n",
       "      <th>AlcoholDrinking</th>\n",
       "      <th>Stroke</th>\n",
       "      <th>PhysicalHealth</th>\n",
       "      <th>MentalHealth</th>\n",
       "      <th>DiffWalking</th>\n",
       "      <th>Sex</th>\n",
       "      <th>AgeCategory</th>\n",
       "      <th>...</th>\n",
       "      <th>American Indian/Alaskan Native</th>\n",
       "      <th>Asian</th>\n",
       "      <th>Black</th>\n",
       "      <th>Hispanic</th>\n",
       "      <th>Other</th>\n",
       "      <th>White</th>\n",
       "      <th>No</th>\n",
       "      <th>No, borderline diabetes</th>\n",
       "      <th>Yes</th>\n",
       "      <th>Yes (during pregnancy)</th>\n",
       "    </tr>\n",
       "  </thead>\n",
       "  <tbody>\n",
       "    <tr>\n",
       "      <th>count</th>\n",
       "      <td>319795.000000</td>\n",
       "      <td>319795.000000</td>\n",
       "      <td>319795.000000</td>\n",
       "      <td>319795.000000</td>\n",
       "      <td>319795.000000</td>\n",
       "      <td>319795.000000</td>\n",
       "      <td>319795.000000</td>\n",
       "      <td>319795.000000</td>\n",
       "      <td>319795.000000</td>\n",
       "      <td>319795.000000</td>\n",
       "      <td>...</td>\n",
       "      <td>319795.000000</td>\n",
       "      <td>319795.000000</td>\n",
       "      <td>319795.000000</td>\n",
       "      <td>319795.000000</td>\n",
       "      <td>319795.000000</td>\n",
       "      <td>319795.000000</td>\n",
       "      <td>319795.000000</td>\n",
       "      <td>319795.000000</td>\n",
       "      <td>319795.000000</td>\n",
       "      <td>319795.000000</td>\n",
       "    </tr>\n",
       "    <tr>\n",
       "      <th>mean</th>\n",
       "      <td>0.085595</td>\n",
       "      <td>0.196854</td>\n",
       "      <td>0.412477</td>\n",
       "      <td>0.068097</td>\n",
       "      <td>0.037740</td>\n",
       "      <td>0.112390</td>\n",
       "      <td>0.129946</td>\n",
       "      <td>0.138870</td>\n",
       "      <td>0.475273</td>\n",
       "      <td>0.542878</td>\n",
       "      <td>...</td>\n",
       "      <td>0.016267</td>\n",
       "      <td>0.025229</td>\n",
       "      <td>0.071730</td>\n",
       "      <td>0.085824</td>\n",
       "      <td>0.034172</td>\n",
       "      <td>0.766779</td>\n",
       "      <td>0.843206</td>\n",
       "      <td>0.021204</td>\n",
       "      <td>0.127588</td>\n",
       "      <td>0.008002</td>\n",
       "    </tr>\n",
       "    <tr>\n",
       "      <th>std</th>\n",
       "      <td>0.279766</td>\n",
       "      <td>0.076737</td>\n",
       "      <td>0.492281</td>\n",
       "      <td>0.251912</td>\n",
       "      <td>0.190567</td>\n",
       "      <td>0.265028</td>\n",
       "      <td>0.265175</td>\n",
       "      <td>0.345812</td>\n",
       "      <td>0.499389</td>\n",
       "      <td>0.297063</td>\n",
       "      <td>...</td>\n",
       "      <td>0.126499</td>\n",
       "      <td>0.156819</td>\n",
       "      <td>0.258041</td>\n",
       "      <td>0.280104</td>\n",
       "      <td>0.181671</td>\n",
       "      <td>0.422883</td>\n",
       "      <td>0.363607</td>\n",
       "      <td>0.144065</td>\n",
       "      <td>0.333631</td>\n",
       "      <td>0.089095</td>\n",
       "    </tr>\n",
       "    <tr>\n",
       "      <th>min</th>\n",
       "      <td>0.000000</td>\n",
       "      <td>0.000000</td>\n",
       "      <td>0.000000</td>\n",
       "      <td>0.000000</td>\n",
       "      <td>0.000000</td>\n",
       "      <td>0.000000</td>\n",
       "      <td>0.000000</td>\n",
       "      <td>0.000000</td>\n",
       "      <td>0.000000</td>\n",
       "      <td>0.000000</td>\n",
       "      <td>...</td>\n",
       "      <td>0.000000</td>\n",
       "      <td>0.000000</td>\n",
       "      <td>0.000000</td>\n",
       "      <td>0.000000</td>\n",
       "      <td>0.000000</td>\n",
       "      <td>0.000000</td>\n",
       "      <td>0.000000</td>\n",
       "      <td>0.000000</td>\n",
       "      <td>0.000000</td>\n",
       "      <td>0.000000</td>\n",
       "    </tr>\n",
       "    <tr>\n",
       "      <th>25%</th>\n",
       "      <td>0.000000</td>\n",
       "      <td>0.144996</td>\n",
       "      <td>0.000000</td>\n",
       "      <td>0.000000</td>\n",
       "      <td>0.000000</td>\n",
       "      <td>0.000000</td>\n",
       "      <td>0.000000</td>\n",
       "      <td>0.000000</td>\n",
       "      <td>0.000000</td>\n",
       "      <td>0.333333</td>\n",
       "      <td>...</td>\n",
       "      <td>0.000000</td>\n",
       "      <td>0.000000</td>\n",
       "      <td>0.000000</td>\n",
       "      <td>0.000000</td>\n",
       "      <td>0.000000</td>\n",
       "      <td>1.000000</td>\n",
       "      <td>1.000000</td>\n",
       "      <td>0.000000</td>\n",
       "      <td>0.000000</td>\n",
       "      <td>0.000000</td>\n",
       "    </tr>\n",
       "    <tr>\n",
       "      <th>50%</th>\n",
       "      <td>0.000000</td>\n",
       "      <td>0.184957</td>\n",
       "      <td>0.000000</td>\n",
       "      <td>0.000000</td>\n",
       "      <td>0.000000</td>\n",
       "      <td>0.000000</td>\n",
       "      <td>0.000000</td>\n",
       "      <td>0.000000</td>\n",
       "      <td>0.000000</td>\n",
       "      <td>0.583333</td>\n",
       "      <td>...</td>\n",
       "      <td>0.000000</td>\n",
       "      <td>0.000000</td>\n",
       "      <td>0.000000</td>\n",
       "      <td>0.000000</td>\n",
       "      <td>0.000000</td>\n",
       "      <td>1.000000</td>\n",
       "      <td>1.000000</td>\n",
       "      <td>0.000000</td>\n",
       "      <td>0.000000</td>\n",
       "      <td>0.000000</td>\n",
       "    </tr>\n",
       "    <tr>\n",
       "      <th>75%</th>\n",
       "      <td>0.000000</td>\n",
       "      <td>0.234215</td>\n",
       "      <td>1.000000</td>\n",
       "      <td>0.000000</td>\n",
       "      <td>0.000000</td>\n",
       "      <td>0.066667</td>\n",
       "      <td>0.100000</td>\n",
       "      <td>0.000000</td>\n",
       "      <td>1.000000</td>\n",
       "      <td>0.750000</td>\n",
       "      <td>...</td>\n",
       "      <td>0.000000</td>\n",
       "      <td>0.000000</td>\n",
       "      <td>0.000000</td>\n",
       "      <td>0.000000</td>\n",
       "      <td>0.000000</td>\n",
       "      <td>1.000000</td>\n",
       "      <td>1.000000</td>\n",
       "      <td>0.000000</td>\n",
       "      <td>0.000000</td>\n",
       "      <td>0.000000</td>\n",
       "    </tr>\n",
       "    <tr>\n",
       "      <th>max</th>\n",
       "      <td>1.000000</td>\n",
       "      <td>1.000000</td>\n",
       "      <td>1.000000</td>\n",
       "      <td>1.000000</td>\n",
       "      <td>1.000000</td>\n",
       "      <td>1.000000</td>\n",
       "      <td>1.000000</td>\n",
       "      <td>1.000000</td>\n",
       "      <td>1.000000</td>\n",
       "      <td>1.000000</td>\n",
       "      <td>...</td>\n",
       "      <td>1.000000</td>\n",
       "      <td>1.000000</td>\n",
       "      <td>1.000000</td>\n",
       "      <td>1.000000</td>\n",
       "      <td>1.000000</td>\n",
       "      <td>1.000000</td>\n",
       "      <td>1.000000</td>\n",
       "      <td>1.000000</td>\n",
       "      <td>1.000000</td>\n",
       "      <td>1.000000</td>\n",
       "    </tr>\n",
       "  </tbody>\n",
       "</table>\n",
       "<p>8 rows × 26 columns</p>\n",
       "</div>"
      ],
      "text/plain": [
       "        HeartDisease            BMI        Smoking  AlcoholDrinking  \\\n",
       "count  319795.000000  319795.000000  319795.000000    319795.000000   \n",
       "mean        0.085595       0.196854       0.412477         0.068097   \n",
       "std         0.279766       0.076737       0.492281         0.251912   \n",
       "min         0.000000       0.000000       0.000000         0.000000   \n",
       "25%         0.000000       0.144996       0.000000         0.000000   \n",
       "50%         0.000000       0.184957       0.000000         0.000000   \n",
       "75%         0.000000       0.234215       1.000000         0.000000   \n",
       "max         1.000000       1.000000       1.000000         1.000000   \n",
       "\n",
       "              Stroke  PhysicalHealth   MentalHealth    DiffWalking  \\\n",
       "count  319795.000000   319795.000000  319795.000000  319795.000000   \n",
       "mean        0.037740        0.112390       0.129946       0.138870   \n",
       "std         0.190567        0.265028       0.265175       0.345812   \n",
       "min         0.000000        0.000000       0.000000       0.000000   \n",
       "25%         0.000000        0.000000       0.000000       0.000000   \n",
       "50%         0.000000        0.000000       0.000000       0.000000   \n",
       "75%         0.000000        0.066667       0.100000       0.000000   \n",
       "max         1.000000        1.000000       1.000000       1.000000   \n",
       "\n",
       "                 Sex    AgeCategory  ...  American Indian/Alaskan Native  \\\n",
       "count  319795.000000  319795.000000  ...                   319795.000000   \n",
       "mean        0.475273       0.542878  ...                        0.016267   \n",
       "std         0.499389       0.297063  ...                        0.126499   \n",
       "min         0.000000       0.000000  ...                        0.000000   \n",
       "25%         0.000000       0.333333  ...                        0.000000   \n",
       "50%         0.000000       0.583333  ...                        0.000000   \n",
       "75%         1.000000       0.750000  ...                        0.000000   \n",
       "max         1.000000       1.000000  ...                        1.000000   \n",
       "\n",
       "               Asian          Black       Hispanic          Other  \\\n",
       "count  319795.000000  319795.000000  319795.000000  319795.000000   \n",
       "mean        0.025229       0.071730       0.085824       0.034172   \n",
       "std         0.156819       0.258041       0.280104       0.181671   \n",
       "min         0.000000       0.000000       0.000000       0.000000   \n",
       "25%         0.000000       0.000000       0.000000       0.000000   \n",
       "50%         0.000000       0.000000       0.000000       0.000000   \n",
       "75%         0.000000       0.000000       0.000000       0.000000   \n",
       "max         1.000000       1.000000       1.000000       1.000000   \n",
       "\n",
       "               White             No  No, borderline diabetes            Yes  \\\n",
       "count  319795.000000  319795.000000            319795.000000  319795.000000   \n",
       "mean        0.766779       0.843206                 0.021204       0.127588   \n",
       "std         0.422883       0.363607                 0.144065       0.333631   \n",
       "min         0.000000       0.000000                 0.000000       0.000000   \n",
       "25%         1.000000       1.000000                 0.000000       0.000000   \n",
       "50%         1.000000       1.000000                 0.000000       0.000000   \n",
       "75%         1.000000       1.000000                 0.000000       0.000000   \n",
       "max         1.000000       1.000000                 1.000000       1.000000   \n",
       "\n",
       "       Yes (during pregnancy)  \n",
       "count           319795.000000  \n",
       "mean                 0.008002  \n",
       "std                  0.089095  \n",
       "min                  0.000000  \n",
       "25%                  0.000000  \n",
       "50%                  0.000000  \n",
       "75%                  0.000000  \n",
       "max                  1.000000  \n",
       "\n",
       "[8 rows x 26 columns]"
      ]
     },
     "execution_count": 4,
     "metadata": {},
     "output_type": "execute_result"
    }
   ],
   "source": [
    "imported_data = pd.read_csv(\"clean_data.csv\", index_col=False)\n",
    "imported_data.describe()"
   ]
  },
  {
   "cell_type": "markdown",
   "metadata": {},
   "source": [
    "#### Data Features Selection"
   ]
  },
  {
   "cell_type": "code",
   "execution_count": 5,
   "metadata": {},
   "outputs": [],
   "source": [
    "X = imported_data.iloc[: , 1:imported_data.shape[1]]\n",
    "Y = imported_data.iloc[: , 0]"
   ]
  },
  {
   "cell_type": "markdown",
   "metadata": {},
   "source": [
    "# Divide data to train, test and validation\n",
    "### With ratios 60% (train) , 20% (test) , 20% (validation)"
   ]
  },
  {
   "cell_type": "code",
   "execution_count": 6,
   "metadata": {},
   "outputs": [
    {
     "name": "stdout",
     "output_type": "stream",
     "text": [
      "X_train shape: (191877, 25)\n",
      "y_train shape: (191877,)\n",
      "X_test shape: (63959, 25)\n",
      "y_test shape: (63959,)\n",
      "X_val shape: (63959, 25)\n",
      "y_val shape: (63959,)\n",
      "\n",
      "y_train Values: \n",
      "0.0    175453\n",
      "1.0     16424\n",
      "Name: HeartDisease, dtype: int64\n",
      "y_test Values: \n",
      "0.0    58484\n",
      "1.0     5475\n",
      "Name: HeartDisease, dtype: int64\n",
      "y_val Values: \n",
      "0.0    58485\n",
      "1.0     5474\n",
      "Name: HeartDisease, dtype: int64\n"
     ]
    }
   ],
   "source": [
    "X_train, X, y_train, Y = train_test_split(X, Y, test_size=0.4, stratify=Y, random_state=0)\n",
    "X_test, X_val, y_test, y_val = train_test_split(X , Y, test_size = 0.5, stratify=Y, random_state=0)\n",
    "\n",
    "print(\"X_train shape: {}\".format(X_train.shape))\n",
    "print(\"y_train shape: {}\".format(y_train.shape))\n",
    "print(\"X_test shape: {}\".format(X_test.shape))\n",
    "print(\"y_test shape: {}\".format(y_test.shape))\n",
    "print(\"X_val shape: {}\".format(X_val.shape))\n",
    "print(\"y_val shape: {}\".format(y_val.shape))\n",
    "\n",
    "print()\n",
    "print(\"y_train Values: \\n{}\".format(y_train.value_counts()))\n",
    "print(\"y_test Values: \\n{}\".format(y_test.value_counts()))\n",
    "print(\"y_val Values: \\n{}\".format(y_val.value_counts()))"
   ]
  },
  {
   "cell_type": "markdown",
   "metadata": {},
   "source": [
    "# Baseline (before oversampling)\n",
    "Using most frequent"
   ]
  },
  {
   "cell_type": "code",
   "execution_count": 7,
   "metadata": {},
   "outputs": [
    {
     "name": "stdout",
     "output_type": "stream",
     "text": [
      "Dummy Classifier Accuracy: 91.44034980742872 %\n"
     ]
    }
   ],
   "source": [
    "dummy_clf = DummyClassifier(strategy=\"most_frequent\")\n",
    "dummy_clf.fit(X_train, y_train)\n",
    "dummy_clf.predict(X_train)\n",
    "accuracy = dummy_clf.score(X_train, y_train)\n",
    "print(\"Dummy Classifier Accuracy: {} %\".format(accuracy*100))"
   ]
  },
  {
   "cell_type": "markdown",
   "metadata": {},
   "source": [
    "### Oversamling the data"
   ]
  },
  {
   "cell_type": "code",
   "execution_count": 8,
   "metadata": {},
   "outputs": [
    {
     "name": "stdout",
     "output_type": "stream",
     "text": [
      "X_train_over_sampled shape: (350906, 25)\n",
      "y_train_over_sampled shape: (350906,)\n",
      "\n",
      "y_train_over_sampled Values: \n",
      "0.0    175453\n",
      "1.0    175453\n",
      "Name: HeartDisease, dtype: int64\n"
     ]
    }
   ],
   "source": [
    "ros = RandomOverSampler(random_state=0)\n",
    "ros.fit(X_train, y_train)\n",
    "X_train_over_sampled, y_train_over_sampled = ros.fit_resample(X_train, y_train)\n",
    "\n",
    "\n",
    "# Save data to disk\n",
    "oversampled_data = pd.concat([X_train_over_sampled, y_train_over_sampled], axis=1)\n",
    "oversampled_data.to_csv(\"Data/oversampled_train_data.csv\", index=False, header=False)\n",
    "\n",
    "print(\"X_train_over_sampled shape: {}\".format(X_train_over_sampled.shape))\n",
    "print(\"y_train_over_sampled shape: {}\".format(y_train_over_sampled.shape))\n",
    "print()\n",
    "print(\"y_train_over_sampled Values: \\n{}\".format(y_train_over_sampled.value_counts()))"
   ]
  },
  {
   "cell_type": "code",
   "execution_count": 9,
   "metadata": {},
   "outputs": [
    {
     "name": "stdout",
     "output_type": "stream",
     "text": [
      "X_val_over_sampled shape: (116970, 25)\n",
      "y_val_over_sampled shape: (116970,)\n",
      "\n",
      "y_val_over_sampled Values: \n",
      "0.0    58485\n",
      "1.0    58485\n",
      "Name: HeartDisease, dtype: int64\n"
     ]
    }
   ],
   "source": [
    "ros = RandomOverSampler(random_state=0)\n",
    "ros.fit(X_val, y_val)\n",
    "X_val_over_sampled, y_val_over_sampled = ros.fit_resample(X_val, y_val)\n",
    "\n",
    "# Save data to disk\n",
    "oversampled_data = pd.concat([X_val_over_sampled, y_val_over_sampled], axis=1)\n",
    "oversampled_data.to_csv(\"Data/oversampled_val_data.csv\", index=False, header=False)\n",
    "\n",
    "print(\"X_val_over_sampled shape: {}\".format(X_val_over_sampled.shape))\n",
    "print(\"y_val_over_sampled shape: {}\".format(y_val_over_sampled.shape))\n",
    "print()\n",
    "print(\"y_val_over_sampled Values: \\n{}\".format(y_val_over_sampled.value_counts()))"
   ]
  },
  {
   "cell_type": "code",
   "execution_count": 10,
   "metadata": {},
   "outputs": [
    {
     "name": "stdout",
     "output_type": "stream",
     "text": [
      "X_test_over_sampled shape: (116968, 25)\n",
      "y_val_over_sampled shape: (116968,)\n",
      "\n",
      "y_val_over_sampled Values: \n",
      "0.0    58484\n",
      "1.0    58484\n",
      "Name: HeartDisease, dtype: int64\n"
     ]
    }
   ],
   "source": [
    "ros = RandomOverSampler(random_state=0)\n",
    "ros.fit(X_test, y_test)\n",
    "X_test_over_sampled, y_test_over_sampled = ros.fit_resample(X_test, y_test)\n",
    "\n",
    "# Save data to disk\n",
    "oversampled_data = pd.concat([X_test_over_sampled, y_test_over_sampled], axis=1)\n",
    "oversampled_data.to_csv(\"Data/oversampled_test_data.csv\", index=False, header=False)\n",
    "\n",
    "\n",
    "print(\"X_test_over_sampled shape: {}\".format(X_test_over_sampled.shape))\n",
    "print(\"y_val_over_sampled shape: {}\".format(y_test_over_sampled.shape))\n",
    "print()\n",
    "print(\"y_val_over_sampled Values: \\n{}\".format(y_test_over_sampled.value_counts()))"
   ]
  },
  {
   "cell_type": "markdown",
   "metadata": {},
   "source": [
    "# Baseline (After oversampling)\n",
    "Using most frequent"
   ]
  },
  {
   "cell_type": "code",
   "execution_count": 11,
   "metadata": {},
   "outputs": [
    {
     "name": "stdout",
     "output_type": "stream",
     "text": [
      "Dummy Classifier Accuracy: 50.0 %\n"
     ]
    }
   ],
   "source": [
    "dummy_clf = DummyClassifier(strategy=\"most_frequent\")\n",
    "dummy_clf.fit(X_train_over_sampled, y_train_over_sampled)\n",
    "dummy_clf.predict(X_train_over_sampled)\n",
    "accuracy = dummy_clf.score(X_train_over_sampled, y_train_over_sampled)\n",
    "print(\"Dummy Classifier Accuracy: {} %\".format(accuracy*100))"
   ]
  },
  {
   "cell_type": "markdown",
   "metadata": {},
   "source": [
    "## Decision Tree"
   ]
  },
  {
   "cell_type": "code",
   "execution_count": 15,
   "metadata": {},
   "outputs": [
    {
     "name": "stdout",
     "output_type": "stream",
     "text": [
      "Accuracy: 0.7275626228947594\n"
     ]
    }
   ],
   "source": [
    "modelDecisionTree = DecisionTreeClassifier(criterion=\"entropy\", max_depth=3)\n",
    "modelDecisionTree.fit(X_train_over_sampled, y_train_over_sampled)\n",
    "y_pred = modelDecisionTree.predict(X_val_over_sampled)\n",
    "print(\"Accuracy:\",metrics.accuracy_score(y_val_over_sampled, y_pred))"
   ]
  },
  {
   "cell_type": "markdown",
   "metadata": {},
   "source": [
    "## Logestic Regression"
   ]
  },
  {
   "cell_type": "code",
   "execution_count": 18,
   "metadata": {},
   "outputs": [],
   "source": [
    "logreg = LogisticRegression(max_iter=1000)\n",
    "logreg.fit(X_train_over_sampled, y_train_over_sampled)\n",
    "y_pred = logreg.predict(X_val_over_sampled)"
   ]
  },
  {
   "cell_type": "code",
   "execution_count": 12,
   "metadata": {},
   "outputs": [
    {
     "data": {
      "text/plain": [
       "Text(0.5, 257.44, 'Predicted label')"
      ]
     },
     "execution_count": 12,
     "metadata": {},
     "output_type": "execute_result"
    },
    {
     "data": {
      "image/png": "[encoded data removed]",
      "text/plain": [
       "<Figure size 432x288 with 2 Axes>"
      ]
     },
     "metadata": {
      "needs_background": "light"
     },
     "output_type": "display_data"
    }
   ],
   "source": [
    "cnf_matrix = metrics.confusion_matrix(y_val_over_sampled, y_pred)\n",
    "class_names=[0,1] # name  of classes\n",
    "fig, ax = plt.subplots()\n",
    "tick_marks = np.arange(len(class_names))\n",
    "plt.xticks(tick_marks, class_names)\n",
    "plt.yticks(tick_marks, class_names)\n",
    "# create heatmap\n",
    "sns.heatmap(pd.DataFrame(cnf_matrix), annot=True, cmap=\"YlGnBu\" ,fmt='g')\n",
    "ax.xaxis.set_label_position(\"top\")\n",
    "plt.tight_layout()\n",
    "plt.title('Confusion matrix', y=1.1)\n",
    "plt.ylabel('Actual label')\n",
    "plt.xlabel('Predicted label')"
   ]
  },
  {
   "cell_type": "code",
   "execution_count": 13,
   "metadata": {},
   "outputs": [
    {
     "name": "stdout",
     "output_type": "stream",
     "text": [
      "Accuracy: 0.7614174574677268\n",
      "Precision: 0.7562946323800583\n",
      "Recall: 0.771411473027272\n"
     ]
    }
   ],
   "source": [
    "print(\"Accuracy:\",metrics.accuracy_score(y_val_over_sampled, y_pred))\n",
    "print(\"Precision:\",metrics.precision_score(y_val_over_sampled, y_pred))\n",
    "print(\"Recall:\",metrics.recall_score(y_val_over_sampled, y_pred))"
   ]
  },
  {
   "cell_type": "markdown",
   "metadata": {},
   "source": [
    "## Bayes Classifier"
   ]
  },
  {
   "cell_type": "code",
   "execution_count": 21,
   "metadata": {},
   "outputs": [
    {
     "name": "stdout",
     "output_type": "stream",
     "text": [
      "Accuracy: 0.7141232794733693\n"
     ]
    }
   ],
   "source": [
    "gnb = GaussianNB()\n",
    "gnb.fit(X_train_over_sampled, y_train_over_sampled)\n",
    "y_pred = gnb.predict(X_val_over_sampled)\n",
    "# Accuracy\n",
    "print(\"Accuracy:\",metrics.accuracy_score(y_val_over_sampled, y_pred))"
   ]
  },
  {
   "cell_type": "markdown",
   "metadata": {},
   "source": [
    "## Linear SVM"
   ]
  },
  {
   "cell_type": "code",
   "execution_count": 16,
   "metadata": {},
   "outputs": [
    {
     "name": "stdout",
     "output_type": "stream",
     "text": [
      "Best score: 0.7650766781738104\n",
      "Best parameters: {'C': 1}\n"
     ]
    }
   ],
   "source": [
    "linsvc = LinearSVC(dual=False)\n",
    "# Use grid search to find the best model and parameters for Linear SVM\n",
    "parameters = {'C':[0.01,0.1,1,10]}\n",
    "grid_search = GridSearchCV(linsvc, parameters)\n",
    "grid_search.fit(X_train_over_sampled, y_train_over_sampled)\n",
    "print(\"Best score:\",grid_search.best_score_)\n",
    "print(\"Best parameters:\",grid_search.best_params_)"
   ]
  },
  {
   "cell_type": "markdown",
   "metadata": {},
   "source": [
    "# KNN"
   ]
  },
  {
   "cell_type": "code",
   "execution_count": 12,
   "metadata": {},
   "outputs": [
    {
     "name": "stdout",
     "output_type": "stream",
     "text": [
      "Accuracy: 0.627605368898008\n"
     ]
    }
   ],
   "source": [
    "model = KNeighborsClassifier(n_neighbors=3)\n",
    "model.fit(X_train_over_sampled, y_train_over_sampled)\n",
    "y_pred = model.predict(X_val_over_sampled)\n",
    "print(\"Accuracy:\",metrics.accuracy_score(y_val_over_sampled, y_pred))"
   ]
  },
  {
   "cell_type": "code",
   "execution_count": 14,
   "metadata": {},
   "outputs": [
    {
     "name": "stdout",
     "output_type": "stream",
     "text": [
      "Accuracy: 0.6553047790031632\n"
     ]
    }
   ],
   "source": [
    "modelKNN = KNeighborsClassifier(n_neighbors=5)\n",
    "modelKNN.fit(X_train_over_sampled, y_train_over_sampled)\n",
    "y_pred = modelKNN.predict(X_val_over_sampled)\n",
    "print(\"Accuracy:\",metrics.accuracy_score(y_val_over_sampled, y_pred))"
   ]
  },
  {
   "cell_type": "markdown",
   "metadata": {},
   "source": [
    "# Using test data"
   ]
  },
  {
   "cell_type": "markdown",
   "metadata": {},
   "source": [
    "Decision Tree"
   ]
  },
  {
   "cell_type": "code",
   "execution_count": 16,
   "metadata": {},
   "outputs": [
    {
     "name": "stdout",
     "output_type": "stream",
     "text": [
      "Accuracy: 0.7340298201217427\n"
     ]
    }
   ],
   "source": [
    "# Validate on test data\n",
    "y_pred = modelDecisionTree.predict(X_test_over_sampled)\n",
    "print(\"Accuracy:\",metrics.accuracy_score(y_test_over_sampled, y_pred))"
   ]
  },
  {
   "cell_type": "markdown",
   "metadata": {},
   "source": [
    "Logestic Regression"
   ]
  },
  {
   "cell_type": "code",
   "execution_count": 19,
   "metadata": {},
   "outputs": [
    {
     "name": "stdout",
     "output_type": "stream",
     "text": [
      "Accuracy: 0.766431844607072\n"
     ]
    }
   ],
   "source": [
    "y_pred = logreg.predict(X_test_over_sampled)\n",
    "print(\"Accuracy:\",metrics.accuracy_score(y_test_over_sampled, y_pred))"
   ]
  },
  {
   "cell_type": "markdown",
   "metadata": {},
   "source": [
    "Bayes Classifier"
   ]
  },
  {
   "cell_type": "code",
   "execution_count": 22,
   "metadata": {},
   "outputs": [
    {
     "name": "stdout",
     "output_type": "stream",
     "text": [
      "Accuracy: 0.7160077970043088\n"
     ]
    }
   ],
   "source": [
    "y_pred = gnb.predict(X_test_over_sampled)\n",
    "print(\"Accuracy:\",metrics.accuracy_score(y_test_over_sampled, y_pred))"
   ]
  }
 ],
 "metadata": {
  "interpreter": {
   "hash": "5577d62c97e7326fadda461e84051408f63875fa9c47a2666194280ffd9ae021"
  },
  "kernelspec": {
   "display_name": "Python 3.9.6 64-bit",
   "language": "python",
   "name": "python3"
  },
  "language_info": {
   "codemirror_mode": {
    "name": "ipython",
    "version": 3
   },
   "file_extension": ".py",
   "mimetype": "text/x-python",
   "name": "python",
   "nbconvert_exporter": "python",
   "pygments_lexer": "ipython3",
   "version": "3.9.6"
  },
  "orig_nbformat": 4
 },
 "nbformat": 4,
 "nbformat_minor": 2
}
